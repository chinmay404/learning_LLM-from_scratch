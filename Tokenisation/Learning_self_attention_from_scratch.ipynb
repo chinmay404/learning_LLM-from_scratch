{
  "cells": [
    {
      "cell_type": "markdown",
      "metadata": {
        "colab_type": "text",
        "id": "view-in-github"
      },
      "source": [
        "<a href=\"https://colab.research.google.com/github/chinmay404/learning_LLM-from_scratch/blob/main/Learning_self_attention_from_scratch.ipynb\" target=\"_parent\"><img src=\"https://colab.research.google.com/assets/colab-badge.svg\" alt=\"Open In Colab\"/></a>"
      ]
    },
    {
      "cell_type": "code",
      "execution_count": null,
      "metadata": {
        "id": "jpolTbIJRacs"
      },
      "outputs": [],
      "source": [
        "import numpy as np"
      ]
    },
    {
      "cell_type": "code",
      "execution_count": null,
      "metadata": {
        "colab": {
          "base_uri": "https://localhost:8080/"
        },
        "id": "Q651AXOlRf6i",
        "outputId": "bfa11719-3200-4229-b3eb-a8343f5a65a7"
      },
      "outputs": [
        {
          "data": {
            "text/plain": [
              "array([[1., 0.],\n",
              "       [0., 1.]])"
            ]
          },
          "execution_count": 2,
          "metadata": {},
          "output_type": "execute_result"
        }
      ],
      "source": [
        "inputs = np.array([\n",
        "    [1.0, 0.0],  # Word 1 (like \"cat\")\n",
        "    [0.0, 1.0]   # Word 2 (like \"mat\")\n",
        "])\n",
        "inputs"
      ]
    },
    {
      "cell_type": "markdown",
      "metadata": {
        "id": "ZSS_y1yDdOt4"
      },
      "source": [
        "Imagine you are in a library 📚.\n",
        "\n",
        "You are looking for a book about \"cats.\"\n",
        "\n",
        "There are many books on many topics."
      ]
    },
    {
      "cell_type": "code",
      "execution_count": null,
      "metadata": {
        "colab": {
          "base_uri": "https://localhost:8080/"
        },
        "id": "maVATjjJRlll",
        "outputId": "efe73536-b145-4135-85d5-245a00f50c7a"
      },
      "outputs": [
        {
          "name": "stdout",
          "output_type": "stream",
          "text": [
            "[[0.39781003 0.99327874]\n",
            " [0.13072175 0.92071314]]\n",
            "\n",
            "\n",
            "[[0.1550261  0.91939176]\n",
            " [0.76129761 0.40050232]]\n",
            "\n",
            "\n",
            "[[0.19728832 0.64182974]\n",
            " [0.08721032 0.81853335]]\n",
            "\n",
            "\n"
          ]
        }
      ],
      "source": [
        "Wq = np.random.rand(2, 2)  # What you are looking for (\"I want books about cats\") - Vector representing your question\n",
        "Wk = np.random.rand(2, 2)  # Labels of books (\"this book is about cats\", \"this is about dogs\", etc.) - Vectors describing what each input represents\n",
        "Wv = np.random.rand(2, 2)  # The full book contents\t- Vectors holding the useful information\n",
        "l = [Wq, Wk , Wv]\n",
        "for i in l:\n",
        "    print(i)\n",
        "    print(\"\\n\")"
      ]
    },
    {
      "cell_type": "markdown",
      "metadata": {
        "id": "YTzQU8iOeFkZ"
      },
      "source": [
        "You (Query) walk through the library:\n",
        "\n",
        "You compare your Query (\"cats\") with every Key (\"book about X\") — this gives a score (how much match).\n",
        "\n",
        "You pick the books with the highest scores.\n",
        "\n",
        "You read the values (contents) of those books.\n",
        "\n",
        "⚡ This is attention.\n",
        "More match → More you read from that book.\n",
        "\n"
      ]
    },
    {
      "cell_type": "code",
      "execution_count": null,
      "metadata": {
        "colab": {
          "base_uri": "https://localhost:8080/"
        },
        "id": "XN79-yrzRuaN",
        "outputId": "889bcc90-27e3-42bf-f4b8-e74afe03142e"
      },
      "outputs": [
        {
          "name": "stdout",
          "output_type": "stream",
          "text": [
            "Queries:\n",
            " [[0.3711012  0.98602218]\n",
            " [0.18413941 0.93522626]\n",
            " [0.15743058 0.9279697 ]]\n",
            "\n",
            "Keys:\n",
            " [[0.21565325 0.86750282]\n",
            " [0.64004331 0.50428021]\n",
            " [0.70067046 0.45239127]]\n",
            "\n",
            "Values:\n",
            " [[0.18628052 0.6595001 ]\n",
            " [0.10922592 0.78319262]\n",
            " [0.09821812 0.80086298]]\n"
          ]
        }
      ],
      "source": [
        "Q = inputs @ Wq  # (matrix multiply)\n",
        "K = inputs @ Wk\n",
        "V = inputs @ Wv\n",
        "\n",
        "\n",
        "print(\"Queries:\\n\", Q)\n",
        "print(\"\\nKeys:\\n\", K)\n",
        "print(\"\\nValues:\\n\", V)"
      ]
    },
    {
      "cell_type": "code",
      "execution_count": null,
      "metadata": {
        "colab": {
          "base_uri": "https://localhost:8080/"
        },
        "id": "XUP2wbqtR5_m",
        "outputId": "b4da710c-65fd-40a2-9a2c-c9aed4e3294a"
      },
      "outputs": [
        {
          "data": {
            "text/plain": [
              "array([[0.49380038, 0.39176338],\n",
              "       [0.13543566, 0.02737475]])"
            ]
          },
          "execution_count": 14,
          "metadata": {},
          "output_type": "execute_result"
        }
      ],
      "source": [
        "attention_scores = Q @ K.T\n",
        "attention_scores"
      ]
    },
    {
      "cell_type": "code",
      "execution_count": null,
      "metadata": {
        "id": "GjBnSw_1R-ae"
      },
      "outputs": [],
      "source": [
        "def softmax(x):\n",
        "    e_x = np.exp(x - np.max(x))  # for stability\n",
        "    return e_x / e_x.sum(axis=-1, keepdims=True)"
      ]
    },
    {
      "cell_type": "code",
      "execution_count": null,
      "metadata": {
        "colab": {
          "base_uri": "https://localhost:8080/"
        },
        "id": "i9F_yx70SCJM",
        "outputId": "15265817-98ea-4539-f1aa-50b6cadcc8b3"
      },
      "outputs": [
        {
          "data": {
            "text/plain": [
              "array([[0.52548714, 0.47451286],\n",
              "       [0.52698897, 0.47301103]])"
            ]
          },
          "execution_count": 17,
          "metadata": {},
          "output_type": "execute_result"
        }
      ],
      "source": [
        "attention_weights = softmax(attention_scores)\n",
        "attention_weights"
      ]
    },
    {
      "cell_type": "code",
      "execution_count": null,
      "metadata": {
        "colab": {
          "base_uri": "https://localhost:8080/"
        },
        "id": "0h0NF4k3SEeB",
        "outputId": "48f49ea6-6f2e-4f57-a69b-84b786e4709f"
      },
      "outputs": [
        {
          "data": {
            "text/plain": [
              "array([[0.65845566, 0.77625836],\n",
              "       [0.65827452, 0.77638117]])"
            ]
          },
          "execution_count": 19,
          "metadata": {},
          "output_type": "execute_result"
        }
      ],
      "source": [
        "output = attention_weights @ V\n",
        "output"
      ]
    },
    {
      "cell_type": "code",
      "execution_count": null,
      "metadata": {
        "colab": {
          "base_uri": "https://localhost:8080/"
        },
        "id": "eOa8bPtRSJEu",
        "outputId": "16a01b00-74f1-41a8-cdd5-819b322dce12"
      },
      "outputs": [
        {
          "name": "stdout",
          "output_type": "stream",
          "text": [
            "Inputs:\n",
            " [[1. 0.]\n",
            " [0. 1.]]\n",
            "\n",
            "Queries:\n",
            " [[0.4193949  0.61867119]\n",
            " [0.02033663 0.21688962]]\n",
            "\n",
            "Keys:\n",
            " [[0.29739505 0.59655988]\n",
            " [0.86798706 0.04482839]]\n",
            "\n",
            "Values:\n",
            " [[0.60122359 0.81506125]\n",
            " [0.72183586 0.73328709]]\n",
            "\n",
            "Attention Weights:\n",
            " [[0.52548714 0.47451286]\n",
            " [0.52698897 0.47301103]]\n",
            "\n",
            "Output:\n",
            " [[0.65845566 0.77625836]\n",
            " [0.65827452 0.77638117]]\n"
          ]
        }
      ],
      "source": [
        "print(\"Inputs:\\n\", inputs)\n",
        "print(\"\\nQueries:\\n\", Q)\n",
        "print(\"\\nKeys:\\n\", K)\n",
        "print(\"\\nValues:\\n\", V)\n",
        "print(\"\\nAttention Weights:\\n\", attention_weights)\n",
        "print(\"\\nOutput:\\n\", output)"
      ]
    },
    {
      "cell_type": "code",
      "execution_count": null,
      "metadata": {
        "colab": {
          "base_uri": "https://localhost:8080/"
        },
        "id": "P_cND0suV54v",
        "outputId": "f51a0e73-1a8d-4629-c6da-6263febf992e"
      },
      "outputs": [
        {
          "data": {
            "text/plain": [
              "<tf.Tensor: shape=(3, 512), dtype=float32, numpy=\n",
              "array([[ 0.06238256,  0.02082169,  0.00380543, ..., -0.01381163,\n",
              "        -0.00345576,  0.07649844],\n",
              "       [-0.00154342, -0.08617748,  0.01716604, ..., -0.05106965,\n",
              "         0.06750236, -0.01448431],\n",
              "       [ 0.03891459,  0.01918418,  0.04246039, ..., -0.00799465,\n",
              "        -0.04652746,  0.06620604]], dtype=float32)>"
            ]
          },
          "execution_count": 22,
          "metadata": {},
          "output_type": "execute_result"
        }
      ],
      "source": [
        "# prompt: Give me code to take Word Embeddings form Google Embedding model\n",
        "\n",
        "import tensorflow as tf\n",
        "import tensorflow_hub as hub\n",
        "\n",
        "# Load the Google Universal Sentence Encoder model\n",
        "embed = hub.load(\"https://tfhub.dev/google/universal-sentence-encoder/4\")\n",
        "\n",
        "# Example sentences\n",
        "sentences = [\n",
        "    \"This is an example sentence.\",\n",
        "    \"Each sentence is converted into a vector.\",\n",
        "    \"This is another example.\"\n",
        "]\n",
        "\n",
        "# Generate embeddings\n",
        "embeddings = embed(sentences)\n",
        "\n",
        "# Print the embeddings\n",
        "embeddings\n"
      ]
    },
    {
      "cell_type": "code",
      "execution_count": null,
      "metadata": {
        "colab": {
          "base_uri": "https://localhost:8080/",
          "height": 315
        },
        "id": "LSibGi9TSLtj",
        "outputId": "15f42e0e-95c6-4943-8975-d4dac3acf12e"
      },
      "outputs": [
        {
          "ename": "TypeError",
          "evalue": "Scalar tensor has no `len()`",
          "output_type": "error",
          "traceback": [
            "\u001b[0;31m---------------------------------------------------------------------------\u001b[0m",
            "\u001b[0;31mTypeError\u001b[0m                                 Traceback (most recent call last)",
            "\u001b[0;32m<ipython-input-30-0e05fe79729d>\u001b[0m in \u001b[0;36m<cell line: 0>\u001b[0;34m()\u001b[0m\n\u001b[1;32m      8\u001b[0m \u001b[0;31m# Print the embeddings\u001b[0m\u001b[0;34m\u001b[0m\u001b[0;34m\u001b[0m\u001b[0m\n\u001b[1;32m      9\u001b[0m \u001b[0;34m\u001b[0m\u001b[0m\n\u001b[0;32m---> 10\u001b[0;31m \u001b[0mprint\u001b[0m\u001b[0;34m(\u001b[0m\u001b[0mlen\u001b[0m\u001b[0;34m(\u001b[0m\u001b[0membeddings\u001b[0m\u001b[0;34m[\u001b[0m\u001b[0;36m0\u001b[0m\u001b[0;34m]\u001b[0m\u001b[0;34m[\u001b[0m\u001b[0;36m0\u001b[0m\u001b[0;34m]\u001b[0m\u001b[0;34m)\u001b[0m\u001b[0;34m)\u001b[0m\u001b[0;34m\u001b[0m\u001b[0;34m\u001b[0m\u001b[0m\n\u001b[0m\u001b[1;32m     11\u001b[0m \u001b[0membeddings\u001b[0m\u001b[0;34m\u001b[0m\u001b[0;34m\u001b[0m\u001b[0m\n",
            "\u001b[0;32m/usr/local/lib/python3.11/dist-packages/tensorflow/python/framework/ops.py\u001b[0m in \u001b[0;36m__len__\u001b[0;34m(self)\u001b[0m\n\u001b[1;32m    355\u001b[0m     \u001b[0;34m\"\"\"Returns the length of the first dimension in the Tensor.\"\"\"\u001b[0m\u001b[0;34m\u001b[0m\u001b[0;34m\u001b[0m\u001b[0m\n\u001b[1;32m    356\u001b[0m     \u001b[0;32mif\u001b[0m \u001b[0;32mnot\u001b[0m \u001b[0mself\u001b[0m\u001b[0;34m.\u001b[0m\u001b[0mshape\u001b[0m\u001b[0;34m.\u001b[0m\u001b[0mndims\u001b[0m\u001b[0;34m:\u001b[0m\u001b[0;34m\u001b[0m\u001b[0;34m\u001b[0m\u001b[0m\n\u001b[0;32m--> 357\u001b[0;31m       \u001b[0;32mraise\u001b[0m \u001b[0mTypeError\u001b[0m\u001b[0;34m(\u001b[0m\u001b[0;34m\"Scalar tensor has no `len()`\"\u001b[0m\u001b[0;34m)\u001b[0m\u001b[0;34m\u001b[0m\u001b[0;34m\u001b[0m\u001b[0m\n\u001b[0m\u001b[1;32m    358\u001b[0m     \u001b[0;31m# pylint: disable=protected-access\u001b[0m\u001b[0;34m\u001b[0m\u001b[0;34m\u001b[0m\u001b[0m\n\u001b[1;32m    359\u001b[0m     \u001b[0;32mtry\u001b[0m\u001b[0;34m:\u001b[0m\u001b[0;34m\u001b[0m\u001b[0;34m\u001b[0m\u001b[0m\n",
            "\u001b[0;31mTypeError\u001b[0m: Scalar tensor has no `len()`"
          ]
        }
      ],
      "source": [
        "sentences = [\n",
        "    \"cat sat on mat\"\n",
        "]\n",
        "\n",
        "# Generate embeddings\n",
        "embeddings = embed(sentences)\n",
        "\n",
        "# Print the embeddings\n",
        "\n",
        "print(len(embeddings[0][0]))\n",
        "embeddings\n"
      ]
    },
    {
      "cell_type": "code",
      "execution_count": null,
      "metadata": {
        "colab": {
          "base_uri": "https://localhost:8080/"
        },
        "id": "DeFjjN-daoqn",
        "outputId": "cce59bc3-4635-4dde-a51d-962748fc0692"
      },
      "outputs": [
        {
          "name": "stdout",
          "output_type": "stream",
          "text": [
            "Inputs (Real Embeddings):\n",
            " [[0.9 0.1]\n",
            " [0.2 0.8]\n",
            " [0.1 0.9]]\n",
            "\n",
            "Queries:\n",
            " [[0.82283973 0.64898594]\n",
            " [0.93161463 0.81569369]\n",
            " [0.9471539  0.83950908]]\n",
            "\n",
            "Keys:\n",
            " [[0.02962768 0.67258471]\n",
            " [0.16724168 0.69913879]\n",
            " [0.18690082 0.70293223]]\n",
            "\n",
            "Values:\n",
            " [[0.43259567 0.54245979]\n",
            " [0.69590371 0.63081643]\n",
            " [0.73351915 0.6434388 ]]\n",
            "\n",
            "Attention Weights:\n",
            " [[0.30301593 0.3452445  0.35173958]\n",
            " [0.29864215 0.34692522 0.35443263]\n",
            " [0.29802026 0.34716338 0.35481636]]\n",
            "\n",
            "Output:\n",
            " [[0.62934802 0.60848275]\n",
            " [0.63060097 0.60890319]\n",
            " [0.63077915 0.60896298]]\n"
          ]
        }
      ],
      "source": [
        "import numpy as np\n",
        "\n",
        "# Step 1: Real Embeddings\n",
        "word_embeddings = {\n",
        "    \"cat\": np.array([0.9, 0.1]),\n",
        "    \"sat\": np.array([0.2, 0.8]),\n",
        "    \"mat\": np.array([0.1, 0.9])\n",
        "}\n",
        "\n",
        "# Step 2: Put them into an input matrix\n",
        "inputs = np.array([\n",
        "    word_embeddings[\"cat\"],\n",
        "    word_embeddings[\"sat\"],\n",
        "    word_embeddings[\"mat\"]\n",
        "])\n",
        "\n",
        "# Step 3: Random Weights for Q, K, V\n",
        "Wq = np.random.rand(2, 2)  # 2D embeddings -> 2D queries\n",
        "Wk = np.random.rand(2, 2)\n",
        "Wv = np.random.rand(2, 2)\n",
        "\n",
        "# Step 4: Make Q, K, V\n",
        "Q = inputs @ Wq\n",
        "K = inputs @ Wk\n",
        "V = inputs @ Wv\n",
        "\n",
        "# Step 5: Attention Scores\n",
        "attention_scores = Q @ K.T\n",
        "\n",
        "# Step 6: Softmax\n",
        "def softmax(x):\n",
        "    e_x = np.exp(x - np.max(x, axis=-1, keepdims=True))  # stable softmax\n",
        "    return e_x / e_x.sum(axis=-1, keepdims=True)\n",
        "\n",
        "attention_weights = softmax(attention_scores)\n",
        "\n",
        "# Step 7: Weighted sum of Values\n",
        "output = attention_weights @ V\n",
        "\n",
        "# Show Results\n",
        "print(\"Inputs (Real Embeddings):\\n\", inputs)\n",
        "print(\"\\nQueries:\\n\", Q)\n",
        "print(\"\\nKeys:\\n\", K)\n",
        "print(\"\\nValues:\\n\", V)\n",
        "print(\"\\nAttention Weights:\\n\", attention_weights)\n",
        "print(\"\\nOutput:\\n\", output)\n"
      ]
    },
    {
      "cell_type": "code",
      "execution_count": null,
      "metadata": {
        "colab": {
          "base_uri": "https://localhost:8080/",
          "height": 435
        },
        "id": "xdwYN7_zXrd5",
        "outputId": "cc6e0a8e-eaaf-45b0-ec0f-e942a891f97a"
      },
      "outputs": [
        {
          "data": {
            "image/png": "[encoded data removed]",
            "text/plain": [
              "<Figure size 640x480 with 2 Axes>"
            ]
          },
          "metadata": {},
          "output_type": "display_data"
        }
      ],
      "source": [
        "import matplotlib.pyplot as plt\n",
        "\n",
        "# Function to plot heatmap\n",
        "def plot_attention_heatmap(attention, labels):\n",
        "    fig, ax = plt.subplots()\n",
        "    cax = ax.matshow(attention, cmap='viridis')\n",
        "\n",
        "    ax.set_xticks(range(len(labels)))\n",
        "    ax.set_yticks(range(len(labels)))\n",
        "    ax.set_xticklabels(labels)\n",
        "    ax.set_yticklabels(labels)\n",
        "\n",
        "    plt.colorbar(cax)\n",
        "    plt.show()\n",
        "\n",
        "# Word labels\n",
        "words = [\"cat\", \"sat\", \"mat\"]\n",
        "\n",
        "# Plot the attention heatmap\n",
        "plot_attention_heatmap(attention_weights, words)\n"
      ]
    },
    {
      "cell_type": "code",
      "execution_count": null,
      "metadata": {
        "colab": {
          "base_uri": "https://localhost:8080/",
          "height": 158
        },
        "id": "vD8nV7IrZPFb",
        "outputId": "a52175d3-6748-4829-c6a6-7b8c9fbbb0d0"
      },
      "outputs": [
        {
          "ename": "TypeError",
          "evalue": "unsupported operand type(s) for @: 'int' and 'int'",
          "output_type": "error",
          "traceback": [
            "\u001b[0;31m---------------------------------------------------------------------------\u001b[0m",
            "\u001b[0;31mTypeError\u001b[0m                                 Traceback (most recent call last)",
            "\u001b[0;32m<ipython-input-27-d9ab48178a39>\u001b[0m in \u001b[0;36m<cell line: 0>\u001b[0;34m()\u001b[0m\n\u001b[0;32m----> 1\u001b[0;31m \u001b[0mattentio\u001b[0m \u001b[0;34m=\u001b[0m \u001b[0;36m2\u001b[0m \u001b[0;34m@\u001b[0m \u001b[0;36m2\u001b[0m\u001b[0;34m\u001b[0m\u001b[0;34m\u001b[0m\u001b[0m\n\u001b[0m\u001b[1;32m      2\u001b[0m \u001b[0mattentio\u001b[0m\u001b[0;34m\u001b[0m\u001b[0;34m\u001b[0m\u001b[0m\n",
            "\u001b[0;31mTypeError\u001b[0m: unsupported operand type(s) for @: 'int' and 'int'"
          ]
        }
      ],
      "source": [
        "attentio = 2 @ 2\n",
        "attentio"
      ]
    },
    {
      "cell_type": "code",
      "execution_count": null,
      "metadata": {
        "id": "ENCoOuoUZpS_"
      },
      "outputs": [],
      "source": []
    }
  ],
  "metadata": {
    "colab": {
      "authorship_tag": "ABX9TyOKWLuvdDxIEuZ4nA72acs4",
      "include_colab_link": true,
      "provenance": []
    },
    "kernelspec": {
      "display_name": "Python 3",
      "name": "python3"
    },
    "language_info": {
      "name": "python"
    }
  },
  "nbformat": 4,
  "nbformat_minor": 0
}
